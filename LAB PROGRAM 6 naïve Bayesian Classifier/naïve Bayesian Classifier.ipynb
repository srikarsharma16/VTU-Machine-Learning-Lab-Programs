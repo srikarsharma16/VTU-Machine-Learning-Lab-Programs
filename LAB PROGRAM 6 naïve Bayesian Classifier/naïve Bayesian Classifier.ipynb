{
 "cells": [
  {
   "cell_type": "code",
   "execution_count": 4,
   "metadata": {},
   "outputs": [],
   "source": [
    "import pandas as pd"
   ]
  },
  {
   "cell_type": "code",
   "execution_count": 8,
   "metadata": {},
   "outputs": [],
   "source": [
    "msg=pd.read_csv('E:/BACHELOR OF ENGINEERING(ISE) NOTES/7th sem/Machine Learning/LAB PROGRAMS/naivetext (1).csv',names=['message','label'])"
   ]
  },
  {
   "cell_type": "code",
   "execution_count": 9,
   "metadata": {},
   "outputs": [
    {
     "name": "stdout",
     "output_type": "stream",
     "text": [
      "The dimensions of thedataset (18, 2)\n"
     ]
    }
   ],
   "source": [
    "print('The dimensions of thedataset',msg.shape)"
   ]
  },
  {
   "cell_type": "code",
   "execution_count": 11,
   "metadata": {},
   "outputs": [],
   "source": [
    "msg['labelnum']=msg.label.map({'pos':1,'neg':0})\n",
    "X=msg.message \n",
    "y=msg.labelnum"
   ]
  },
  {
   "cell_type": "code",
   "execution_count": 12,
   "metadata": {},
   "outputs": [
    {
     "name": "stdout",
     "output_type": "stream",
     "text": [
      "0                      I love this sandwich\n",
      "1                  This is an amazing place\n",
      "2        I feel very good about these beers\n",
      "3                      This is my best work\n",
      "4                      What an awesome view\n",
      "5             I do not like this restaurant\n",
      "6                  I am tired of this stuff\n",
      "7                    I can't deal with this\n",
      "8                      He is my sworn enemy\n",
      "9                       My boss is horrible\n",
      "10                 This is an awesome place\n",
      "11    I do not like the taste of this juice\n",
      "12                          I love to dance\n",
      "13        I am sick and tired of this place\n",
      "14                     What a great holiday\n",
      "15           That is a bad locality to stay\n",
      "16           We will have good fun tomorrow\n",
      "17         I went to my enemy's house today\n",
      "Name: message, dtype: object\n",
      "0     1\n",
      "1     1\n",
      "2     1\n",
      "3     1\n",
      "4     1\n",
      "5     0\n",
      "6     0\n",
      "7     0\n",
      "8     0\n",
      "9     0\n",
      "10    1\n",
      "11    0\n",
      "12    1\n",
      "13    0\n",
      "14    1\n",
      "15    0\n",
      "16    1\n",
      "17    0\n",
      "Name: labelnum, dtype: int64\n"
     ]
    }
   ],
   "source": [
    "print(X) \n",
    "print(y)"
   ]
  },
  {
   "cell_type": "code",
   "execution_count": 14,
   "metadata": {},
   "outputs": [],
   "source": [
    "#splitting the dataset into train andtestdata\n",
    "from sklearn.model_selection import train_test_split \n",
    "xtrain,xtest,ytrain,ytest=train_test_split(X,y)"
   ]
  },
  {
   "cell_type": "code",
   "execution_count": 15,
   "metadata": {},
   "outputs": [
    {
     "name": "stdout",
     "output_type": "stream",
     "text": [
      "\n",
      " The total number of Training Data : (13,)\n",
      "\n",
      " The total number of Test Data : (5,)\n"
     ]
    }
   ],
   "source": [
    "print ('\\n The total number of Training Data :',ytrain.shape) \n",
    "print ('\\n The total number of Test Data :',ytest.shape)"
   ]
  },
  {
   "cell_type": "code",
   "execution_count": 18,
   "metadata": {},
   "outputs": [
    {
     "name": "stdout",
     "output_type": "stream",
     "text": [
      "\n",
      " The words or Tokens in the text documents \n",
      "\n",
      "['about', 'am', 'an', 'and', 'awesome', 'bad', 'beers', 'can', 'dance', 'deal', 'do', 'enemy', 'feel', 'fun', 'good', 'great', 'have', 'holiday', 'house', 'is', 'juice', 'like', 'locality', 'love', 'my', 'not', 'of', 'place', 'restaurant', 'sandwich', 'sick', 'stay', 'taste', 'that', 'the', 'these', 'this', 'tired', 'to', 'today', 'tomorrow', 'very', 'view', 'we', 'went', 'what', 'will', 'with']\n"
     ]
    }
   ],
   "source": [
    "#output of count vectoriser is asparsematrix\n",
    "from sklearn.feature_extraction.text import CountVectorizer \n",
    "count_vect =CountVectorizer()\n",
    "xtrain_dtm = count_vect.fit_transform(xtrain) \n",
    "xtest_dtm=count_vect.transform(xtest)\n",
    "print('\\n The words or Tokens in the text documents \\n') \n",
    "print(count_vect.get_feature_names())\n"
   ]
  },
  {
   "cell_type": "code",
   "execution_count": 19,
   "metadata": {},
   "outputs": [],
   "source": [
    "df=pd.DataFrame(xtrain_dtm.toarray(),columns=count_vect.get_feature_names())"
   ]
  },
  {
   "cell_type": "code",
   "execution_count": 21,
   "metadata": {},
   "outputs": [],
   "source": [
    "# Training Naive Bayes (NB) classifier ontrainingdata.\n",
    "from sklearn.naive_bayes import MultinomialNB\n",
    "clf = MultinomialNB().fit(xtrain_dtm,ytrain) \n",
    "predicted = clf.predict(xtest_dtm)"
   ]
  },
  {
   "cell_type": "code",
   "execution_count": 23,
   "metadata": {},
   "outputs": [
    {
     "name": "stdout",
     "output_type": "stream",
     "text": [
      "\n",
      " Accuracy of the classiferis 0.8\n"
     ]
    }
   ],
   "source": [
    "#printing accuracy, Confusion matrix, PrecisionandRecall\n",
    "from sklearn import metrics\n",
    "print(\"\\n Accuracy of the classiferis\", metrics.accuracy_score(ytest,predicted))"
   ]
  },
  {
   "cell_type": "code",
   "execution_count": 24,
   "metadata": {},
   "outputs": [
    {
     "name": "stdout",
     "output_type": "stream",
     "text": [
      "\n",
      " The value of Precision 1.0\n"
     ]
    }
   ],
   "source": [
    "print('\\n The value of Precision' , metrics.precision_score(ytest,predicted))"
   ]
  },
  {
   "cell_type": "code",
   "execution_count": 25,
   "metadata": {},
   "outputs": [
    {
     "name": "stdout",
     "output_type": "stream",
     "text": [
      "\n",
      " The value of Recall 0.5\n"
     ]
    }
   ],
   "source": [
    "print('\\n The value of Recall' , metrics.recall_score(ytest,predicted))"
   ]
  }
 ],
 "metadata": {
  "kernelspec": {
   "display_name": "Python 3",
   "language": "python",
   "name": "python3"
  },
  "language_info": {
   "codemirror_mode": {
    "name": "ipython",
    "version": 3
   },
   "file_extension": ".py",
   "mimetype": "text/x-python",
   "name": "python",
   "nbconvert_exporter": "python",
   "pygments_lexer": "ipython3",
   "version": "3.7.4"
  }
 },
 "nbformat": 4,
 "nbformat_minor": 4
}
